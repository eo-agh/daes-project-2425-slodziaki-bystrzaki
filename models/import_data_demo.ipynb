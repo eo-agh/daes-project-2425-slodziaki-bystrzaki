{
 "cells": [
  {
   "cell_type": "code",
   "execution_count": null,
   "metadata": {},
   "outputs": [],
   "source": [
    "import pandas as pd\n",
    "from PIL import Image\n",
    "import os\n",
    "import numpy as np"
   ]
  },
  {
   "cell_type": "code",
   "execution_count": null,
   "metadata": {},
   "outputs": [],
   "source": [
    "images_path = '../images'\n",
    "population_data_path = '../data/full_data.csv'"
   ]
  },
  {
   "cell_type": "code",
   "execution_count": null,
   "metadata": {},
   "outputs": [],
   "source": [
    "def crop_and_resize(image: Image.Image, size: int) -> Image.Image:\n",
    "    \"\"\"\n",
    "    Crop a PIL image to a square by trimming the longer side and centering,\n",
    "    then resize it to the designated resolution.\n",
    "    \n",
    "    :param image: Input PIL Image\n",
    "    :param size: Target resolution (size x size)\n",
    "    :return: Processed PIL Image\n",
    "    \"\"\"\n",
    "    width, height = image.size\n",
    "    min_side = min(width, height)\n",
    "    \n",
    "    # Calculate crop box for center cropping\n",
    "    left = (width - min_side) // 2\n",
    "    top = (height - min_side) // 2\n",
    "    right = left + min_side\n",
    "    bottom = top + min_side\n",
    "    \n",
    "    # Crop to square\n",
    "    cropped_image = image.crop((left, top, right, bottom))\n",
    "    \n",
    "    # Resize to designated resolution\n",
    "    resized_image = cropped_image.resize((size, size), Image.LANCZOS)\n",
    "    \n",
    "    return resized_image"
   ]
  },
  {
   "cell_type": "code",
   "execution_count": null,
   "metadata": {},
   "outputs": [],
   "source": [
    "images = []\n",
    "\n",
    "for dir in os.listdir(images_path):\n",
    "    if not dir.endswith('.png'):\n",
    "        continue\n",
    "    \n",
    "    full_path = f'{images_path}/{dir}'\n",
    "    image = Image.open(full_path)\n",
    "    square_image = crop_and_resize(image, 512)\n",
    "    images.append(square_image)\n",
    "    \n",
    "print(f'Loaded {len(images)} images')\n",
    "images[0]"
   ]
  },
  {
   "cell_type": "code",
   "execution_count": null,
   "metadata": {},
   "outputs": [],
   "source": [
    "# tutaj zamieniam listę zdjęć na np.array\n",
    "# dzielę zdjęcia przez 255 żeby mieć wartości między 0 i 1\n",
    "# array ma wymiary [ilość zdjęć, 512, 512, 3]\n",
    "\n",
    "X = np.array([np.array(img) / 255 for img in images])\n",
    "print(X.shape)\n",
    "print(X[0])"
   ]
  },
  {
   "cell_type": "code",
   "execution_count": null,
   "metadata": {},
   "outputs": [],
   "source": [
    "# żeby użyć dane w klasycznych modelach, trzeba prawdopodobnie zamienić je na wektory\n",
    "# taki format powinien zadziałać dla regresji i drzew\n",
    "# być może są jakieś modele które działają na zdjęciach\n",
    "# w razie czego, sprawdź jakie wymiary są wymagane (bo być może liczba kanałów jest jako druga a nie ostatnia jak jest teraz zapisane)\n",
    "\n",
    "X = X.reshape(-1, 512 * 512 * 3)\n",
    "X.shape"
   ]
  },
  {
   "cell_type": "code",
   "execution_count": null,
   "metadata": {},
   "outputs": [],
   "source": [
    "y = pd.read_csv(population_data_path)\n",
    "y = np.array(y['population']).reshape(-1, 1)\n",
    "y"
   ]
  }
 ],
 "metadata": {
  "kernelspec": {
   "display_name": ".venv",
   "language": "python",
   "name": "python3"
  },
  "language_info": {
   "codemirror_mode": {
    "name": "ipython",
    "version": 3
   },
   "file_extension": ".py",
   "mimetype": "text/x-python",
   "name": "python",
   "nbconvert_exporter": "python",
   "pygments_lexer": "ipython3",
   "version": "3.13.2"
  }
 },
 "nbformat": 4,
 "nbformat_minor": 2
}
