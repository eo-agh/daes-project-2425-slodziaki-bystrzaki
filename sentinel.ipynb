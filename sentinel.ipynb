{
 "cells": [
  {
   "cell_type": "code",
   "execution_count": null,
   "metadata": {},
   "outputs": [],
   "source": [
    "import os\n",
    "import json\n",
    "\n",
    "# Load credentials from JSON file\n",
    "with open(\"config.json\") as f:\n",
    "    config_json = json.load(f)\n",
    "\n"
   ]
  },
  {
   "cell_type": "code",
   "execution_count": null,
   "metadata": {},
   "outputs": [],
   "source": [
    "from sentinelhub import SHConfig\n",
    "\n",
    "config = SHConfig()\n",
    "config.sh_client_id = config_json['SH_CLIENT_ID']\n",
    "config.sh_client_secret = config_json['SH_CLIENT_SECRET']\n",
    "config.save()"
   ]
  },
  {
   "cell_type": "code",
   "execution_count": null,
   "metadata": {},
   "outputs": [],
   "source": [
    "import numpy as np\n",
    "import datetime\n",
    "import matplotlib.pyplot as plt\n",
    "from sentinelhub import (\n",
    "    SentinelHubRequest, \n",
    "    DataCollection, \n",
    "    MimeType, \n",
    "    CRS, \n",
    "    BBox, \n",
    "    bbox_to_dimensions, \n",
    "    SHConfig\n",
    ")\n",
    "\n",
    "config = SHConfig()\n",
    "if not config.sh_client_id or not config.sh_client_secret:\n",
    "    raise ValueError(\"Missing SentinelHub credentials. Set CLIENT_ID and CLIENT_SECRET.\")\n",
    "\n",
    "\n",
    "lat, lon = 50.0647, 19.9450  # Kraków\n",
    "lat, lon = 52.2298, 21.0118  # Warsaw\n",
    "lat, lon = 48.8566, 2.3522  # Paris\n",
    "lat, lon = 52.5200, 13.4050  # Berlin\n",
    "# lat, lon = 51.5074, -0.1278  # London\n",
    "# lat, lon = 40.7128, -74.0060  # New York\n",
    "# lat, lon = 30.0444, 31.2357  # Cairo\n",
    "# lat, lon = 55.7558, 37.6173  # Moscow\n",
    "\n",
    "resolution = 30\n",
    "\n",
    "bbox_size = 0.15\n",
    "bbox = BBox([lon - 2 * bbox_size, lat - bbox_size, lon + 2 * bbox_size, lat + bbox_size], CRS.WGS84)\n",
    "size = bbox_to_dimensions(bbox, resolution=resolution)\n"
   ]
  },
  {
   "cell_type": "code",
   "execution_count": null,
   "metadata": {},
   "outputs": [],
   "source": [
    "time_interval = (\"2023-03-01\", \"2024-03-22\")\n",
    "\n",
    "evalscript = \"\"\"\n",
    "// SentinelHub Evalscript for cloud-free Sentinel-2 images\n",
    "function setup() {\n",
    "    return {\n",
    "        input: [\"B04\", \"B03\", \"B02\", \"SCL\"],\n",
    "        output: { bands: 3 }\n",
    "    };\n",
    "}\n",
    "\n",
    "function evaluatePixel(sample) {\n",
    "    // Mask clouds using SCL (Scene Classification Layer)\n",
    "    if (sample.SCL == 3 || sample.SCL == 8 || sample.SCL == 9 || sample.SCL == 10) {\n",
    "        return [0.05, 0.05, 0.05]; // Remove clouds, cloud shadows, and snow\n",
    "    }\n",
    "    return [sample.B04, sample.B03, sample.B02];\n",
    "}\n",
    "\"\"\"\n",
    "\n",
    "request = SentinelHubRequest(\n",
    "    evalscript=evalscript,\n",
    "    input_data=[\n",
    "        SentinelHubRequest.input_data(\n",
    "            data_collection=DataCollection.SENTINEL2_L2A,\n",
    "            time_interval=time_interval,\n",
    "            mosaicking_order=\"leastCC\"\n",
    "        )\n",
    "    ],\n",
    "    responses=[SentinelHubRequest.output_response(\"default\", MimeType.PNG)],\n",
    "    bbox=bbox,\n",
    "    size=size,\n",
    "    config=config\n",
    ")\n",
    "\n",
    "response = request.get_data()\n",
    "image = np.array(response[0])"
   ]
  },
  {
   "cell_type": "code",
   "execution_count": null,
   "metadata": {},
   "outputs": [],
   "source": [
    "import numpy as np\n",
    "\n",
    "def normalize_image(image, target_mean, target_std):\n",
    "    \"\"\"\n",
    "    Normalize an image using percentile-based contrast stretching.\n",
    "    \n",
    "    Parameters:\n",
    "        image (numpy.ndarray): Input image as a NumPy array.\n",
    "        lower_percentile (int): Lower percentile for normalization (default=2).\n",
    "        upper_percentile (int): Upper percentile for normalization (default=98).\n",
    "\n",
    "    Returns:\n",
    "        numpy.ndarray: Normalized image in the range 0-255.\n",
    "    \"\"\"\n",
    "    \n",
    "    image = image.astype(np.float32)\n",
    "    mean = image.mean()\n",
    "    std = image.std()\n",
    "    \n",
    "    image = (image - mean) / std\n",
    "    image = target_std * image + target_mean\n",
    "    image = np.clip(image, 0, 1)\n",
    "\n",
    "    return image\n"
   ]
  },
  {
   "cell_type": "code",
   "execution_count": null,
   "metadata": {},
   "outputs": [],
   "source": [
    "normalized_image = normalize_image(image, 0.5, 0.2)\n",
    "plt.figure(figsize=(10, 10))\n",
    "plt.imshow(normalized_image)\n",
    "plt.axis(\"off\")\n",
    "plt.title(\"Cloud-Free Sentinel-2 Image\")\n",
    "plt.show()\n",
    "print(normalized_image.std(), normalized_image.mean())"
   ]
  },
  {
   "cell_type": "code",
   "execution_count": null,
   "metadata": {},
   "outputs": [],
   "source": [
    "from PIL import Image\n",
    "\n",
    "pil_image = Image.fromarray((normalized_image * 255).astype(np.uint8))\n",
    "\n",
    "# Save the image as a PNG file\n",
    "output_filename = \"normalized_satellite_image.png\"\n",
    "pil_image.save(output_filename)"
   ]
  }
 ],
 "metadata": {
  "kernelspec": {
   "display_name": ".venv",
   "language": "python",
   "name": "python3"
  },
  "language_info": {
   "codemirror_mode": {
    "name": "ipython",
    "version": 3
   },
   "file_extension": ".py",
   "mimetype": "text/x-python",
   "name": "python",
   "nbconvert_exporter": "python",
   "pygments_lexer": "ipython3",
   "version": "3.13.2"
  }
 },
 "nbformat": 4,
 "nbformat_minor": 2
}
