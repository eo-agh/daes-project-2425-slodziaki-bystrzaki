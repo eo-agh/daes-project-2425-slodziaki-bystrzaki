{
 "cells": [
  {
   "cell_type": "code",
   "execution_count": null,
   "metadata": {},
   "outputs": [],
   "source": [
    "import os\n",
    "import json\n",
    "import requests\n",
    "import argparse\n",
    "\n",
    "\n",
    "# Load credentials from JSON file\n",
    "with open(\"config.json\") as f:\n",
    "    config_json = json.load(f)\n"
   ]
  },
  {
   "cell_type": "code",
   "execution_count": null,
   "metadata": {},
   "outputs": [],
   "source": [
    "API_NINJAS_API_KEY = config_json['NINJAS_API_KEY']"
   ]
  },
  {
   "cell_type": "code",
   "execution_count": null,
   "metadata": {},
   "outputs": [],
   "source": [
    "def get_city_info(city_name, api_key):\n",
    "    \"\"\"\n",
    "    Get geographical information about a city using the API Ninjas geocoding service.\n",
    "\n",
    "    Parameters:\n",
    "        city_name (str): Name of the city.\n",
    "        api_key (str): API Key associated with the account.\n",
    "\n",
    "    Returns:\n",
    "        dict: Dictionary containing the city's name, latitude, longitude, and population.\n",
    "    \"\"\"\n",
    "    api_url = f\"https://api.api-ninjas.com/v1/city?name={city_name}\"\n",
    "    response = requests.get(api_url, headers={\"X-Api-Key\": api_key})\n",
    "    if response.status_code != 200:\n",
    "        raise Exception(f\"API request failed with status code {response.status_code}: {response.text}\")\n",
    "\n",
    "    data = response.json()[0]\n",
    "    return {\n",
    "        \"name\": data.get(\"name\"),\n",
    "        \"latitude\": data.get(\"latitude\"),\n",
    "        \"longitude\": data.get(\"longitude\"),\n",
    "        \"population\": data.get(\"population\")\n",
    "    }\n",
    "\n",
    "get_city_info('Kraków', API_NINJAS_API_KEY)"
   ]
  },
  {
   "cell_type": "code",
   "execution_count": null,
   "metadata": {},
   "outputs": [],
   "source": [
    "f = open('data/cities.txt', \"r\")\n",
    "f.read()"
   ]
  }
 ],
 "metadata": {
  "kernelspec": {
   "display_name": "Python 3",
   "language": "python",
   "name": "python3"
  },
  "language_info": {
   "codemirror_mode": {
    "name": "ipython",
    "version": 3
   },
   "file_extension": ".py",
   "mimetype": "text/x-python",
   "name": "python",
   "nbconvert_exporter": "python",
   "pygments_lexer": "ipython3",
   "version": "3.11.11"
  }
 },
 "nbformat": 4,
 "nbformat_minor": 2
}
