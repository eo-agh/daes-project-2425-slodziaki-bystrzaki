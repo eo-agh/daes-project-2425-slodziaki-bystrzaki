{
 "cells": [
  {
   "cell_type": "code",
   "execution_count": 72,
   "metadata": {},
   "outputs": [],
   "source": [
    "import os\n",
    "import json\n",
    "import requests\n",
    "\n",
    "# Load credentials from JSON file\n",
    "with open(\"config.json\") as f:\n",
    "    config_json = json.load(f)\n",
    "\n",
    "GEONAMES_USERNAME = config_json['GEONAMES_USERNAME']"
   ]
  },
  {
   "cell_type": "code",
   "execution_count": null,
   "metadata": {},
   "outputs": [
    {
     "data": {
      "text/plain": [
       "[{'countryName': 'Argentina', 'countryCode': 'AR', 'population': '44494502'},\n",
       " {'countryName': 'Afghanistan', 'countryCode': 'AF', 'population': '37172386'},\n",
       " {'countryName': 'United Arab Emirates',\n",
       "  'countryCode': 'AE',\n",
       "  'population': '9630959'},\n",
       " {'countryName': 'Armenia', 'countryCode': 'AM', 'population': '2991200'},\n",
       " {'countryName': 'Albania', 'countryCode': 'AL', 'population': '2866376'},\n",
       " {'countryName': 'Antigua and Barbuda',\n",
       "  'countryCode': 'AG',\n",
       "  'population': '96286'},\n",
       " {'countryName': 'Andorra', 'countryCode': 'AD', 'population': '77006'},\n",
       " {'countryName': 'Anguilla', 'countryCode': 'AI', 'population': '13254'}]"
      ]
     },
     "execution_count": 83,
     "metadata": {},
     "output_type": "execute_result"
    }
   ],
   "source": [
    "def get_country_info(number_of_countries, username):\n",
    "    \"\"\"\n",
    "    Get a list of countries and their population from the geonames API, \n",
    "    filtered to include only countries in North America, South America, Europe, and Asia.\n",
    "\n",
    "    Parameters:\n",
    "        number_of_countries (int): Number of countries to return information about.\n",
    "        username (str): Username associated with the account.\n",
    "\n",
    "    Returns:\n",
    "        list of dicts: A sorted list of dictionaries containing:\n",
    "            - countryName (str): Name of the country,\n",
    "            - countryCode (str): Alpha-2 country code,\n",
    "            - population (str): Population of the country.\n",
    "    \"\"\"\n",
    "    url = \"http://api.geonames.org/countryInfoJSON\"\n",
    "    params = {\"username\": username}\n",
    "    \n",
    "    response = requests.get(url, params=params)\n",
    "    if response.status_code != 200:\n",
    "        raise Exception(f\"Error: {response.status_code}, {response.text}\")\n",
    "    \n",
    "    countries = response.json().get(\"geonames\", [])\n",
    "    \n",
    "    countries_info = []\n",
    "\n",
    "    for i in range(number_of_countries):\n",
    "        if countries[i][\"continent\"] in ['NA', 'SA', 'EU', 'AS']:\n",
    "            countries_info.append({\n",
    "                \"countryName\": countries[i][\"countryName\"],\n",
    "                \"countryCode\": countries[i][\"countryCode\"],\n",
    "                \"population\": countries[i][\"population\"]\n",
    "            })\n",
    "\n",
    "    return sorted(countries_info, key=lambda x: int(x['population']), reverse = True)\n",
    "    \n",
    "get_country_info(10, GEONAMES_USERNAME)\n"
   ]
  },
  {
   "cell_type": "code",
   "execution_count": null,
   "metadata": {},
   "outputs": [
    {
     "data": {
      "text/plain": [
       "['Warsaw',\n",
       " 'Lodz',\n",
       " 'Krakow',\n",
       " 'Wroclaw',\n",
       " 'Poznan',\n",
       " 'Gdansk',\n",
       " 'Szczecin',\n",
       " 'Bydgoszcz',\n",
       " 'Lublin',\n",
       " 'Katowice']"
      ]
     },
     "execution_count": 70,
     "metadata": {},
     "output_type": "execute_result"
    }
   ],
   "source": [
    "\n",
    "def get_cities_names(country_code, amount, username):\n",
    "    \"\"\"\n",
    "    Get the largest cities in a given country based on population, using the geonames API service.\n",
    "\n",
    "    Parameters:\n",
    "        country_code (str): Alpha-2 country code.\n",
    "        amount (int): Number of cities to get.\n",
    "        username (str): Username associated with the account.\n",
    "\n",
    "    Returns:\n",
    "        list: A list of city names ordered by population.\n",
    "    \"\"\"\n",
    "    url = \"http://api.geonames.org/searchJSON\"\n",
    "    params = {\n",
    "        \"country\": country_code,\n",
    "        \"featureClass\": \"P\",\n",
    "        \"orderby\": \"population\",\n",
    "        \"maxRows\": amount,\n",
    "        \"username\": username\n",
    "    }\n",
    "    \n",
    "    response = requests.get(url, params=params)\n",
    "    \n",
    "    if response.status_code != 200:\n",
    "        raise Exception(f\"Error: {response.status_code}, {response.text}\")\n",
    "    \n",
    "    data = response.json().get(\"geonames\", [])\n",
    "    cities = [city[\"name\"] for city in data]\n",
    "    \n",
    "    return cities\n",
    "\n",
    "get_cities_names(10, 'PL', GEONAMES_USERNAME)"
   ]
  }
 ],
 "metadata": {
  "kernelspec": {
   "display_name": "Python 3",
   "language": "python",
   "name": "python3"
  },
  "language_info": {
   "codemirror_mode": {
    "name": "ipython",
    "version": 3
   },
   "file_extension": ".py",
   "mimetype": "text/x-python",
   "name": "python",
   "nbconvert_exporter": "python",
   "pygments_lexer": "ipython3",
   "version": "3.11.11"
  }
 },
 "nbformat": 4,
 "nbformat_minor": 2
}
